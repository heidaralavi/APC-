{
 "cells": [
  {
   "cell_type": "code",
   "execution_count": 100,
   "id": "48a3fd23",
   "metadata": {},
   "outputs": [],
   "source": [
    "# evaluate model performance with outliers removed using isolation forest\n",
    "\n",
    "from pandas import read_csv\n",
    "from sklearn.model_selection import train_test_split\n",
    "from sklearn.linear_model import LinearRegression\n",
    "from sklearn.ensemble import IsolationForest\n",
    "from sklearn.metrics import mean_absolute_error"
   ]
  },
  {
   "cell_type": "code",
   "execution_count": 101,
   "id": "4769c44b",
   "metadata": {},
   "outputs": [],
   "source": [
    "# load the dataset\n",
    "#url = 'https://raw.githubusercontent.com/jbrownlee/Datasets/master/housing.csv'\n",
    "#df = read_csv(url, header=None)\n",
    "df = read_csv('input-data.csv')"
   ]
  },
  {
   "cell_type": "code",
   "execution_count": 102,
   "id": "ba66e815",
   "metadata": {},
   "outputs": [
    {
     "data": {
      "text/html": [
       "<div>\n",
       "<style scoped>\n",
       "    .dataframe tbody tr th:only-of-type {\n",
       "        vertical-align: middle;\n",
       "    }\n",
       "\n",
       "    .dataframe tbody tr th {\n",
       "        vertical-align: top;\n",
       "    }\n",
       "\n",
       "    .dataframe thead th {\n",
       "        text-align: right;\n",
       "    }\n",
       "</style>\n",
       "<table border=\"1\" class=\"dataframe\">\n",
       "  <thead>\n",
       "    <tr style=\"text-align: right;\">\n",
       "      <th></th>\n",
       "      <th>Blaine</th>\n",
       "      <th>Co-Tfe%</th>\n",
       "      <th>Co-FeO%</th>\n",
       "      <th>Co-SiO2%</th>\n",
       "      <th>Co-CaO%</th>\n",
       "      <th>Co-MgO%</th>\n",
       "      <th>Co-AL2O3%</th>\n",
       "      <th>Co-P%</th>\n",
       "      <th>Co-MnO%</th>\n",
       "      <th>Co-TiO2%</th>\n",
       "    </tr>\n",
       "  </thead>\n",
       "  <tbody>\n",
       "    <tr>\n",
       "      <th>0</th>\n",
       "      <td>1823.333333</td>\n",
       "      <td>67.460000</td>\n",
       "      <td>22.820000</td>\n",
       "      <td>3.029500</td>\n",
       "      <td>0.638000</td>\n",
       "      <td>0.426000</td>\n",
       "      <td>0.497000</td>\n",
       "      <td>0.091000</td>\n",
       "      <td>0.0310</td>\n",
       "      <td>0.222000</td>\n",
       "    </tr>\n",
       "    <tr>\n",
       "      <th>1</th>\n",
       "      <td>1837.333333</td>\n",
       "      <td>67.536667</td>\n",
       "      <td>22.656667</td>\n",
       "      <td>2.968333</td>\n",
       "      <td>0.673600</td>\n",
       "      <td>0.442567</td>\n",
       "      <td>0.492200</td>\n",
       "      <td>0.100900</td>\n",
       "      <td>0.0285</td>\n",
       "      <td>0.223267</td>\n",
       "    </tr>\n",
       "    <tr>\n",
       "      <th>2</th>\n",
       "      <td>1712.333333</td>\n",
       "      <td>67.650000</td>\n",
       "      <td>22.663333</td>\n",
       "      <td>2.838333</td>\n",
       "      <td>0.604900</td>\n",
       "      <td>0.392067</td>\n",
       "      <td>0.449533</td>\n",
       "      <td>0.088167</td>\n",
       "      <td>0.0272</td>\n",
       "      <td>0.270367</td>\n",
       "    </tr>\n",
       "    <tr>\n",
       "      <th>3</th>\n",
       "      <td>1794.333333</td>\n",
       "      <td>67.653333</td>\n",
       "      <td>22.506667</td>\n",
       "      <td>2.899667</td>\n",
       "      <td>0.622367</td>\n",
       "      <td>0.430867</td>\n",
       "      <td>0.485933</td>\n",
       "      <td>0.094567</td>\n",
       "      <td>0.0293</td>\n",
       "      <td>0.245033</td>\n",
       "    </tr>\n",
       "    <tr>\n",
       "      <th>4</th>\n",
       "      <td>1807.666667</td>\n",
       "      <td>67.490000</td>\n",
       "      <td>23.446667</td>\n",
       "      <td>3.013000</td>\n",
       "      <td>0.642667</td>\n",
       "      <td>0.401000</td>\n",
       "      <td>0.443333</td>\n",
       "      <td>0.094333</td>\n",
       "      <td>0.0310</td>\n",
       "      <td>0.213000</td>\n",
       "    </tr>\n",
       "    <tr>\n",
       "      <th>...</th>\n",
       "      <td>...</td>\n",
       "      <td>...</td>\n",
       "      <td>...</td>\n",
       "      <td>...</td>\n",
       "      <td>...</td>\n",
       "      <td>...</td>\n",
       "      <td>...</td>\n",
       "      <td>...</td>\n",
       "      <td>...</td>\n",
       "      <td>...</td>\n",
       "    </tr>\n",
       "    <tr>\n",
       "      <th>165</th>\n",
       "      <td>1737.333333</td>\n",
       "      <td>67.553333</td>\n",
       "      <td>23.476667</td>\n",
       "      <td>2.949000</td>\n",
       "      <td>0.659333</td>\n",
       "      <td>0.393667</td>\n",
       "      <td>0.559000</td>\n",
       "      <td>0.108000</td>\n",
       "      <td>0.0250</td>\n",
       "      <td>0.239333</td>\n",
       "    </tr>\n",
       "    <tr>\n",
       "      <th>166</th>\n",
       "      <td>1715.000000</td>\n",
       "      <td>67.486667</td>\n",
       "      <td>23.556667</td>\n",
       "      <td>3.085333</td>\n",
       "      <td>0.655667</td>\n",
       "      <td>0.448333</td>\n",
       "      <td>0.607000</td>\n",
       "      <td>0.104667</td>\n",
       "      <td>0.0270</td>\n",
       "      <td>0.214667</td>\n",
       "    </tr>\n",
       "    <tr>\n",
       "      <th>167</th>\n",
       "      <td>1707.000000</td>\n",
       "      <td>67.666667</td>\n",
       "      <td>22.693333</td>\n",
       "      <td>3.148000</td>\n",
       "      <td>0.632000</td>\n",
       "      <td>0.387000</td>\n",
       "      <td>0.604000</td>\n",
       "      <td>0.102000</td>\n",
       "      <td>0.0270</td>\n",
       "      <td>0.243000</td>\n",
       "    </tr>\n",
       "    <tr>\n",
       "      <th>168</th>\n",
       "      <td>1730.000000</td>\n",
       "      <td>67.930000</td>\n",
       "      <td>22.986667</td>\n",
       "      <td>2.900500</td>\n",
       "      <td>0.590500</td>\n",
       "      <td>0.381000</td>\n",
       "      <td>0.531500</td>\n",
       "      <td>0.096500</td>\n",
       "      <td>0.0255</td>\n",
       "      <td>0.242500</td>\n",
       "    </tr>\n",
       "    <tr>\n",
       "      <th>169</th>\n",
       "      <td>1763.000000</td>\n",
       "      <td>67.735000</td>\n",
       "      <td>22.610000</td>\n",
       "      <td>3.313000</td>\n",
       "      <td>0.609000</td>\n",
       "      <td>0.546000</td>\n",
       "      <td>0.690000</td>\n",
       "      <td>0.104000</td>\n",
       "      <td>0.0250</td>\n",
       "      <td>0.234000</td>\n",
       "    </tr>\n",
       "  </tbody>\n",
       "</table>\n",
       "<p>170 rows × 10 columns</p>\n",
       "</div>"
      ],
      "text/plain": [
       "          Blaine    Co-Tfe%    Co-FeO%  Co-SiO2%   Co-CaO%   Co-MgO%  \\\n",
       "0    1823.333333  67.460000  22.820000  3.029500  0.638000  0.426000   \n",
       "1    1837.333333  67.536667  22.656667  2.968333  0.673600  0.442567   \n",
       "2    1712.333333  67.650000  22.663333  2.838333  0.604900  0.392067   \n",
       "3    1794.333333  67.653333  22.506667  2.899667  0.622367  0.430867   \n",
       "4    1807.666667  67.490000  23.446667  3.013000  0.642667  0.401000   \n",
       "..           ...        ...        ...       ...       ...       ...   \n",
       "165  1737.333333  67.553333  23.476667  2.949000  0.659333  0.393667   \n",
       "166  1715.000000  67.486667  23.556667  3.085333  0.655667  0.448333   \n",
       "167  1707.000000  67.666667  22.693333  3.148000  0.632000  0.387000   \n",
       "168  1730.000000  67.930000  22.986667  2.900500  0.590500  0.381000   \n",
       "169  1763.000000  67.735000  22.610000  3.313000  0.609000  0.546000   \n",
       "\n",
       "     Co-AL2O3%     Co-P%  Co-MnO%  Co-TiO2%  \n",
       "0     0.497000  0.091000   0.0310  0.222000  \n",
       "1     0.492200  0.100900   0.0285  0.223267  \n",
       "2     0.449533  0.088167   0.0272  0.270367  \n",
       "3     0.485933  0.094567   0.0293  0.245033  \n",
       "4     0.443333  0.094333   0.0310  0.213000  \n",
       "..         ...       ...      ...       ...  \n",
       "165   0.559000  0.108000   0.0250  0.239333  \n",
       "166   0.607000  0.104667   0.0270  0.214667  \n",
       "167   0.604000  0.102000   0.0270  0.243000  \n",
       "168   0.531500  0.096500   0.0255  0.242500  \n",
       "169   0.690000  0.104000   0.0250  0.234000  \n",
       "\n",
       "[170 rows x 10 columns]"
      ]
     },
     "execution_count": 102,
     "metadata": {},
     "output_type": "execute_result"
    }
   ],
   "source": [
    "df"
   ]
  },
  {
   "cell_type": "code",
   "execution_count": 103,
   "id": "6617b48c",
   "metadata": {},
   "outputs": [],
   "source": [
    "# retrieve the array\n",
    "data = df.values"
   ]
  },
  {
   "cell_type": "code",
   "execution_count": 104,
   "id": "ae0c7ae0",
   "metadata": {},
   "outputs": [
    {
     "data": {
      "text/plain": [
       "array([[1.82333333e+03, 6.74600000e+01, 2.28200000e+01, ...,\n",
       "        9.10000000e-02, 3.10000000e-02, 2.22000000e-01],\n",
       "       [1.83733333e+03, 6.75366667e+01, 2.26566667e+01, ...,\n",
       "        1.00900000e-01, 2.85000000e-02, 2.23266667e-01],\n",
       "       [1.71233333e+03, 6.76500000e+01, 2.26633333e+01, ...,\n",
       "        8.81666670e-02, 2.72000000e-02, 2.70366667e-01],\n",
       "       ...,\n",
       "       [1.70700000e+03, 6.76666667e+01, 2.26933333e+01, ...,\n",
       "        1.02000000e-01, 2.70000000e-02, 2.43000000e-01],\n",
       "       [1.73000000e+03, 6.79300000e+01, 2.29866667e+01, ...,\n",
       "        9.65000000e-02, 2.55000000e-02, 2.42500000e-01],\n",
       "       [1.76300000e+03, 6.77350000e+01, 2.26100000e+01, ...,\n",
       "        1.04000000e-01, 2.50000000e-02, 2.34000000e-01]])"
      ]
     },
     "execution_count": 104,
     "metadata": {},
     "output_type": "execute_result"
    }
   ],
   "source": [
    "data"
   ]
  },
  {
   "cell_type": "code",
   "execution_count": 105,
   "id": "fb9477d0",
   "metadata": {},
   "outputs": [
    {
     "name": "stdout",
     "output_type": "stream",
     "text": [
      "(170, 10)\n"
     ]
    }
   ],
   "source": [
    "print(data.shape)"
   ]
  },
  {
   "cell_type": "code",
   "execution_count": 106,
   "id": "e4532288",
   "metadata": {},
   "outputs": [],
   "source": [
    "# identify outliers in the training dataset\n",
    "iso = IsolationForest(contamination=0.1)\n",
    "yhat = iso.fit_predict(data)"
   ]
  },
  {
   "cell_type": "code",
   "execution_count": 107,
   "id": "4830f94d",
   "metadata": {},
   "outputs": [
    {
     "name": "stdout",
     "output_type": "stream",
     "text": [
      "(170,)\n"
     ]
    }
   ],
   "source": [
    "print(yhat.shape)"
   ]
  },
  {
   "cell_type": "code",
   "execution_count": 108,
   "id": "94652201",
   "metadata": {},
   "outputs": [],
   "source": [
    "# select all rows that are not outliers\n",
    "mask = yhat != -1"
   ]
  },
  {
   "cell_type": "code",
   "execution_count": 110,
   "id": "c91a54b5",
   "metadata": {},
   "outputs": [
    {
     "name": "stdout",
     "output_type": "stream",
     "text": [
      "(170,)\n"
     ]
    }
   ],
   "source": [
    "print(mask.shape)"
   ]
  },
  {
   "cell_type": "code",
   "execution_count": 111,
   "id": "25b8c165",
   "metadata": {},
   "outputs": [],
   "source": [
    "data = data[mask, :]"
   ]
  },
  {
   "cell_type": "code",
   "execution_count": 112,
   "id": "534e63a2",
   "metadata": {},
   "outputs": [
    {
     "name": "stdout",
     "output_type": "stream",
     "text": [
      "(153, 10)\n"
     ]
    }
   ],
   "source": [
    "print(data.shape)"
   ]
  },
  {
   "cell_type": "code",
   "execution_count": 113,
   "id": "7b22c3a3",
   "metadata": {},
   "outputs": [],
   "source": [
    "# split into input and output elements\n",
    "X, y = data[:, :-1], data[:, -1]"
   ]
  },
  {
   "cell_type": "code",
   "execution_count": 114,
   "id": "8798e472",
   "metadata": {},
   "outputs": [
    {
     "data": {
      "text/plain": [
       "array([0.222     , 0.22326667, 0.27036667, 0.24503333, 0.213     ,\n",
       "       0.209     , 0.29735   , 0.2595    , 0.209     , 0.219     ,\n",
       "       0.27785   , 0.295     , 0.25      , 0.274     , 0.3147    ,\n",
       "       0.2525    , 0.207     , 0.2365    , 0.3429    , 0.2535    ,\n",
       "       0.2255    , 0.261     , 0.288     , 0.25333333, 0.2355    ,\n",
       "       0.232     , 0.3655    , 0.2565    , 0.3065    , 0.29      ,\n",
       "       0.2635    , 0.328     , 0.30945   , 0.342     , 0.2735    ,\n",
       "       0.249     , 0.32205   , 0.352     , 0.318     , 0.2775    ,\n",
       "       0.2988    , 0.343     , 0.285     , 0.2315    , 0.2834    ,\n",
       "       0.213     , 0.2255    , 0.3347    , 0.305     , 0.35335   ,\n",
       "       0.3315    , 0.208     , 0.2029    , 0.212     , 0.214     ,\n",
       "       0.223     , 0.2159    , 0.222     , 0.22      , 0.22795   ,\n",
       "       0.2225    , 0.214     , 0.245     , 0.209     , 0.215     ,\n",
       "       0.27      , 0.2085    , 0.2115    , 0.21615   , 0.2805    ,\n",
       "       0.219     , 0.215     , 0.25295   , 0.214     , 0.204     ,\n",
       "       0.2595    , 0.251     , 0.205     , 0.19915   , 0.24      ,\n",
       "       0.261     , 0.232     , 0.22666667, 0.22893333, 0.2365    ,\n",
       "       0.229     , 0.23266667, 0.21453333, 0.23796667, 0.2061    ,\n",
       "       0.23966667, 0.23833333, 0.26166667, 0.238     , 0.225     ,\n",
       "       0.237     , 0.24213333, 0.24126667, 0.235     , 0.23766667,\n",
       "       0.243     , 0.251     , 0.222     , 0.2308    , 0.25843333,\n",
       "       0.25433333, 0.22566667, 0.21533333, 0.23166667, 0.21433333,\n",
       "       0.227     , 0.207     , 0.23346667, 0.20333333, 0.21933333,\n",
       "       0.22556667, 0.224     , 0.22733333, 0.23033333, 0.21233333,\n",
       "       0.2063    , 0.211     , 0.201     , 0.216     , 0.22033333,\n",
       "       0.22466667, 0.237     , 0.24333333, 0.24333333, 0.23733333,\n",
       "       0.221     , 0.24966667, 0.2172    , 0.24766667, 0.30306667,\n",
       "       0.24356667, 0.25383333, 0.24466667, 0.23333333, 0.24533333,\n",
       "       0.24926667, 0.22633333, 0.22666667, 0.19966667, 0.22133333,\n",
       "       0.205     , 0.24113333, 0.2597    , 0.24266667, 0.23933333,\n",
       "       0.21466667, 0.243     , 0.2425    ])"
      ]
     },
     "execution_count": 114,
     "metadata": {},
     "output_type": "execute_result"
    }
   ],
   "source": [
    "y"
   ]
  },
  {
   "cell_type": "code",
   "execution_count": 115,
   "id": "09f823fa",
   "metadata": {},
   "outputs": [],
   "source": [
    "# split into train and test sets\n",
    "X_train, X_test, y_train, y_test = train_test_split(X, y, test_size=0.33, random_state=1)"
   ]
  },
  {
   "cell_type": "code",
   "execution_count": 116,
   "id": "7841242f",
   "metadata": {},
   "outputs": [
    {
     "name": "stdout",
     "output_type": "stream",
     "text": [
      "(102, 9) (102,)\n"
     ]
    }
   ],
   "source": [
    "# summarize the shape of the training dataset\n",
    "print(X_train.shape, y_train.shape)"
   ]
  },
  {
   "cell_type": "code",
   "execution_count": 117,
   "id": "5131dec7",
   "metadata": {},
   "outputs": [
    {
     "data": {
      "text/plain": [
       "LinearRegression()"
      ]
     },
     "execution_count": 117,
     "metadata": {},
     "output_type": "execute_result"
    }
   ],
   "source": [
    "# fit the model\n",
    "model = LinearRegression()\n",
    "model.fit(X_train, y_train)"
   ]
  },
  {
   "cell_type": "code",
   "execution_count": 118,
   "id": "2bc66ea4",
   "metadata": {},
   "outputs": [],
   "source": [
    "# evaluate the model\n",
    "yhat = model.predict(X_test)"
   ]
  },
  {
   "cell_type": "code",
   "execution_count": 119,
   "id": "5645a90b",
   "metadata": {},
   "outputs": [
    {
     "name": "stdout",
     "output_type": "stream",
     "text": [
      "MAE: 0.020\n"
     ]
    }
   ],
   "source": [
    "# evaluate predictions\n",
    "mae = mean_absolute_error(y_test, yhat)\n",
    "print('MAE: %.3f' %mae)"
   ]
  },
  {
   "cell_type": "code",
   "execution_count": null,
   "id": "f6cbe857",
   "metadata": {},
   "outputs": [],
   "source": []
  }
 ],
 "metadata": {
  "kernelspec": {
   "display_name": "Python 3 (ipykernel)",
   "language": "python",
   "name": "python3"
  },
  "language_info": {
   "codemirror_mode": {
    "name": "ipython",
    "version": 3
   },
   "file_extension": ".py",
   "mimetype": "text/x-python",
   "name": "python",
   "nbconvert_exporter": "python",
   "pygments_lexer": "ipython3",
   "version": "3.9.7"
  }
 },
 "nbformat": 4,
 "nbformat_minor": 5
}
